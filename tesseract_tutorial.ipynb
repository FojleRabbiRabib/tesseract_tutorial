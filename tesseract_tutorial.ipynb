{
 "cells": [
  {
   "cell_type": "markdown",
   "metadata": {
    "id": "4jUb-j_RU3cE"
   },
   "source": [
    "# Tesseract Tutorial\n",
    "\n",
    "Repository mentioned in the [YouTube Video](https://youtu.be/KE4xEzFGSU8)"
   ]
  },
  {
   "cell_type": "code",
   "execution_count": null,
   "metadata": {
    "colab": {
     "base_uri": "https://localhost:8080/"
    },
    "id": "TgDqvjH7zlIy",
    "outputId": "48460540-da9c-4be6-ebea-c20f5d5fddcb"
   },
   "outputs": [],
   "source": [
    "!sudo apt-get install libicu-dev libpango1.0-dev libcairo2-dev\n",
    "!sudo apt-get install tesseract-ocr libtesseract-dev\n",
    "!sudo apt-get install tesseract-ocr-eng\n",
    "!sudo apt install bc"
   ]
  },
  {
   "cell_type": "code",
   "execution_count": null,
   "metadata": {
    "colab": {
     "base_uri": "https://localhost:8080/"
    },
    "id": "_Tm2yE18xHuj",
    "outputId": "9fa6c938-02ef-4698-8749-6efa5185ace3"
   },
   "outputs": [],
   "source": [
    "!git clone https://github.com/astutejoe/tesseract_tutorial"
   ]
  },
  {
   "cell_type": "code",
   "execution_count": null,
   "metadata": {
    "colab": {
     "base_uri": "https://localhost:8080/"
    },
    "id": "RSvfdf4QxQ2D",
    "outputId": "5448b823-5560-42fa-f9e1-6c225afd6d73"
   },
   "outputs": [],
   "source": [
    "%cd tesseract_tutorial"
   ]
  },
  {
   "cell_type": "code",
   "execution_count": null,
   "metadata": {
    "colab": {
     "base_uri": "https://localhost:8080/"
    },
    "id": "5-a6TkqRxnwn",
    "outputId": "dca15a58-562e-4725-9432-2e4fcb5de64e"
   },
   "outputs": [],
   "source": [
    "!git submodule update --init --recursive"
   ]
  },
  {
   "cell_type": "code",
   "execution_count": null,
   "metadata": {
    "id": "68hZPrm-hQr2"
   },
   "outputs": [],
   "source": [
    "!python3 generate_training_text.py"
   ]
  },
  {
   "cell_type": "code",
   "execution_count": null,
   "metadata": {
    "colab": {
     "base_uri": "https://localhost:8080/"
    },
    "id": "Q5eSkSqczhck",
    "outputId": "bbdc9bcc-58bd-4be4-d65b-cdc872e9cccf"
   },
   "outputs": [],
   "source": [
    "!python3 split_training_text.py"
   ]
  },
  {
   "cell_type": "code",
   "execution_count": null,
   "metadata": {
    "colab": {
     "base_uri": "https://localhost:8080/"
    },
    "id": "fng1h2ZC3_Iy",
    "outputId": "7e31b96f-229b-40cc-d84b-a054ee5f1989"
   },
   "outputs": [],
   "source": [
    "%cd tesstrain"
   ]
  },
  {
   "cell_type": "code",
   "execution_count": null,
   "metadata": {
    "colab": {
     "base_uri": "https://localhost:8080/"
    },
    "id": "ItUJv7hm1YNY",
    "outputId": "c335952b-dcb8-4b59-f016-c24839299c54"
   },
   "outputs": [],
   "source": [
    "!TESSDATA_PREFIX=../tesseract/tessdata make training MODEL_NAME=sgb START_MODEL=eng TESSDATA=../tesseract/tessdata MAX_ITERATIONS=10000"
   ]
  },
  {
   "cell_type": "code",
   "execution_count": null,
   "metadata": {
    "id": "jOxvMiML3zrx"
   },
   "outputs": [],
   "source": [
    "!rm -fr /content/tesseract_tutorial/tesstrain/data/*"
   ]
  },
  {
   "cell_type": "code",
   "execution_count": null,
   "metadata": {
    "colab": {
     "base_uri": "https://localhost:8080/"
    },
    "id": "uuaZBZ_ia8BZ",
    "outputId": "7d968d4a-a26f-45bc-acc8-1ff558a9a69d"
   },
   "outputs": [],
   "source": [
    "!tesseract data/sgb-ground-truth/sgb_0.tif - --dpi 300 -c tessedit_char_whitelist=0123456789 --psm 11"
   ]
  },
  {
   "cell_type": "code",
   "execution_count": null,
   "metadata": {
    "colab": {
     "base_uri": "https://localhost:8080/"
    },
    "id": "_WMJ-Md_bs9Z",
    "outputId": "d6a26fc6-0afb-4200-ee28-a0edb43614e9"
   },
   "outputs": [],
   "source": [
    "!tesseract output.png - --tessdata-dir data -l sgb --dpi 300 --psm 11 -c tessedit_char_whitelist=0123456789"
   ]
  },
  {
   "cell_type": "code",
   "execution_count": null,
   "metadata": {
    "colab": {
     "base_uri": "https://localhost:8080/"
    },
    "id": "35OgLTcKcoP2",
    "outputId": "54057599-dc86-4541-8359-95287cdda975"
   },
   "outputs": [],
   "source": [
    "!tesseract --list-langs --tessdata-dir data"
   ]
  }
 ],
 "metadata": {
  "colab": {
   "name": "BuildingABrain.ipynb",
   "provenance": []
  },
  "kernelspec": {
   "display_name": "Python 3 (ipykernel)",
   "language": "python",
   "name": "python3"
  },
  "language_info": {
   "codemirror_mode": {
    "name": "ipython",
    "version": 3
   },
   "file_extension": ".py",
   "mimetype": "text/x-python",
   "name": "python",
   "nbconvert_exporter": "python",
   "pygments_lexer": "ipython3",
   "version": "3.8.20"
  }
 },
 "nbformat": 4,
 "nbformat_minor": 4
}
